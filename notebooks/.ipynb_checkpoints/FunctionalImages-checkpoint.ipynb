{
 "metadata": {
  "language": "haskell",
  "name": "",
  "signature": "sha256:9562e1d309fd10d4a287c0220ee0d279f9f840383d168c0951b0898dd9bc6213"
 },
 "nbformat": 3,
 "nbformat_minor": 0,
 "worksheets": [
  {
   "cells": [
    {
     "cell_type": "code",
     "collapsed": false,
     "input": [
      "import Codec.Picture\n",
      "import FunctionalImagesBase\n",
      "\n",
      "\n",
      "vstrip :: Point -> Bool\n",
      "vstrip (x, y) = abs x < 0.5 \n",
      "\n",
      "myImage :: Image PixelRGB8\n",
      "myImage = generateBWImageR2 vstrip (-3, -3) (3, 3) 255\n",
      "\n",
      "myImage"
     ],
     "language": "python",
     "metadata": {
      "hidden": false
     },
     "outputs": [
      {
       "jpeg": "[encoded data removed]",
       "metadata": {},
       "output_type": "display_data"
      }
     ],
     "prompt_number": 1
    },
    {
     "cell_type": "code",
     "collapsed": true,
     "input": [],
     "language": "python",
     "metadata": {},
     "outputs": [],
     "prompt_number": 2
    },
    {
     "cell_type": "code",
     "collapsed": false,
     "input": [],
     "language": "python",
     "metadata": {
      "hidden": false
     },
     "outputs": []
    }
   ],
   "metadata": {}
  }
 ]
}