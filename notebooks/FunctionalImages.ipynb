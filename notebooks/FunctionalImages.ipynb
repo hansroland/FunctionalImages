{
 "metadata": {
  "language": "haskell",
  "name": "",
  "signature": "sha256:073f1cdbf3b86786a9567ceaef06444bdfd449aec58ba1e3660cb32d45dd7e52"
 },
 "nbformat": 3,
 "nbformat_minor": 0,
 "worksheets": [
  {
   "cells": [
    {
     "cell_type": "markdown",
     "metadata": {
      "hidden": false
     },
     "source": [
      "# Functional Images"
     ]
    },
    {
     "cell_type": "markdown",
     "metadata": {
      "hidden": false
     },
     "source": [
      "### Vertical strip\n",
      "\n",
      "The function to generate a vertical strip is\n",
      "\n",
      "\n",
      "    vstrip :: Point -> Bool\n",
      "    vstrip (x, y) = abs x < 0.5 \n"
     ]
    },
    {
     "cell_type": "code",
     "collapsed": false,
     "input": [
      "import Codec.Picture\n",
      "import FunctionalImages\n",
      "\n",
      "myImage :: Image PixelRGB8\n",
      "myImage = generateBWImageR2 vstrip (-3, -3) (3, 3) 255\n",
      "\n",
      "writePng \"images/vstrip.png\" myImage\n",
      "\n",
      "myImage"
     ],
     "language": "python",
     "metadata": {
      "hidden": false
     },
     "outputs": [
      {
       "jpeg": "[encoded data removed]",
       "metadata": {},
       "output_type": "display_data"
      }
     ],
     "prompt_number": 4
    },
    {
     "cell_type": "markdown",
     "metadata": {
      "hidden": false
     },
     "source": [
      "### Chessboard\n",
      "\n",
      "    checker :: Point -> Bool\n",
      "    checker (x, y) = even $ floor x + floor y"
     ]
    },
    {
     "cell_type": "code",
     "collapsed": false,
     "input": [
      "import Codec.Picture\n",
      "import FunctionalImages\n",
      "\n",
      "myImage :: Image PixelRGB8\n",
      "myImage = generateBWImageR2 checker (-3, -3) (3, 3) 255\n",
      "\n",
      "writePng \"images/checker.png\" myImage\n",
      "\n",
      "myImage"
     ],
     "language": "python",
     "metadata": {
      "hidden": false
     },
     "outputs": [
      {
       "jpeg": "[encoded data removed]",
       "metadata": {},
       "output_type": "display_data"
      }
     ],
     "prompt_number": 3
    },
    {
     "cell_type": "code",
     "collapsed": false,
     "input": [],
     "language": "python",
     "metadata": {
      "hidden": false
     },
     "outputs": [],
     "prompt_number": 1
    }
   ],
   "metadata": {}
  }
 ]
}