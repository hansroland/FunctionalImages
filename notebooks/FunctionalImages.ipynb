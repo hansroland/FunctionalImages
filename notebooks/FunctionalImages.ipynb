{
 "metadata": {
  "language": "haskell",
  "name": "",
  "signature": "sha256:1bf81aa72d46c6e5f20828fbab163c6068e554d134846a288665f9b954d08b1b"
 },
 "nbformat": 3,
 "nbformat_minor": 0,
 "worksheets": [
  {
   "cells": [
    {
     "cell_type": "code",
     "collapsed": false,
     "input": [
      "import Codec.Picture\n",
      "import FunctionalImagesBase\n",
      "\n",
      "\n",
      "vstrip :: Point -> Bool\n",
      "vstrip (x, y) = abs x < 0.5 \n",
      "\n",
      "myImage :: Image PixelRGB8\n",
      "myImage = generateBWImageR2 vstrip (-3, -3) (3, 3) 255\n",
      "\n",
      "writePng \"images/vstrip.png\" myImage\n",
      "\n",
      "myImage\n",
      "\n"
     ],
     "language": "python",
     "metadata": {
      "hidden": false
     },
     "outputs": [
      {
       "jpeg": "[encoded data removed]",
       "metadata": {},
       "output_type": "display_data"
      }
     ],
     "prompt_number": 2
    },
    {
     "cell_type": "code",
     "collapsed": false,
     "input": [],
     "language": "python",
     "metadata": {
      "hidden": false
     },
     "outputs": []
    }
   ],
   "metadata": {}
  }
 ]
}